{
 "cells": [
  {
   "cell_type": "code",
   "execution_count": null,
   "id": "dae9b218",
   "metadata": {},
   "outputs": [],
   "source": [
    "# Python set\n",
    "# multiple data\n",
    "# no duplicate\n",
    "# mutable data type\n",
    "# unordered\n"
   ]
  },
  {
   "cell_type": "code",
   "execution_count": 1,
   "id": "99666752",
   "metadata": {},
   "outputs": [
    {
     "name": "stdout",
     "output_type": "stream",
     "text": [
      "{1, 2, 3, 4, 5, 6, 7, 8, 9}\n"
     ]
    }
   ],
   "source": [
    "s={1,2,3,4,5,6,7,8,9}\n",
    "print(s)"
   ]
  },
  {
   "cell_type": "code",
   "execution_count": 2,
   "id": "2bacb85b",
   "metadata": {},
   "outputs": [
    {
     "name": "stdout",
     "output_type": "stream",
     "text": [
      "{'ball', 'cat', 'apple'}\n"
     ]
    }
   ],
   "source": [
    "s={\"apple\",\"ball\",\"cat\",\"apple\"}\n",
    "print(s)"
   ]
  },
  {
   "cell_type": "code",
   "execution_count": null,
   "id": "8f2264c4",
   "metadata": {},
   "outputs": [],
   "source": [
    "# set does not support list ,dict, set inside set (mutable data type does not support)\n",
    "# can update only\n",
    "# not concatenate\n"
   ]
  },
  {
   "cell_type": "code",
   "execution_count": 4,
   "id": "b7112cc5",
   "metadata": {},
   "outputs": [
    {
     "name": "stdout",
     "output_type": "stream",
     "text": [
      "{1, 2, 3, 4, 5, 6}\n"
     ]
    }
   ],
   "source": [
    "a={1,2,3}\n",
    "b={4,5,6}\n",
    "# print(a+b)\n",
    "a.update(b)\n",
    "print(a)"
   ]
  },
  {
   "cell_type": "code",
   "execution_count": 6,
   "id": "fb0a7336",
   "metadata": {},
   "outputs": [
    {
     "name": "stdout",
     "output_type": "stream",
     "text": [
      "Common on both =  {'Ram'}\n",
      "Union of both sets= {'Sameer', 'Nabin', 'Gates', 'Ram', 'Shyam', 'Jobs', 'John', 'Bill'}\n",
      "Working only at ms= {'John', 'Shyam', 'Gates', 'Bill'}\n",
      "Working only at apple= {'Sameer', 'Nabin', 'Jobs'}\n",
      "Unemployed =  {'Xyz', 'abc'}\n"
     ]
    }
   ],
   "source": [
    "u={\"Ram\",\"Gates\",\"Nabin\",\"Jobs\",\"Bill\",\"John\",\"Shyam\",'Sameer','Xyz',\"abc\"}\n",
    "ms={\"Ram\",\"Shyam\",\"Bill\",\"Gates\",\"John\"}\n",
    "apple={\"Jobs\",\"Ram\",\"Nabin\",\"Sameer\"}\n",
    "print(\"Common on both = \",ms.intersection(apple))\n",
    "print(\"Union of both sets=\",ms.union(apple))\n",
    "print(\"Working only at ms=\",ms-apple)#ms.difference(apple)\n",
    "print(\"Working only at apple=\",apple-ms)#apple.difference(ms)\n",
    "print(\"Unemployed = \",u-ms.union(apple))\n"
   ]
  },
  {
   "cell_type": "code",
   "execution_count": null,
   "id": "b667e349",
   "metadata": {},
   "outputs": [],
   "source": [
    "# s={} this is empty dictionary\n",
    "# s=set() this is empty set"
   ]
  },
  {
   "cell_type": "code",
   "execution_count": 11,
   "id": "a00a3f92",
   "metadata": {},
   "outputs": [
    {
     "name": "stdout",
     "output_type": "stream",
     "text": [
      "{'Ball', 'Apple'}\n"
     ]
    }
   ],
   "source": [
    "s= set()\n",
    "s.add(\"Apple\")\n",
    "s.add(\"Ball\")\n",
    "print(s)"
   ]
  },
  {
   "cell_type": "code",
   "execution_count": 13,
   "id": "785255a6",
   "metadata": {},
   "outputs": [
    {
     "name": "stdout",
     "output_type": "stream",
     "text": [
      "{'Ball'}\n"
     ]
    }
   ],
   "source": [
    "s={\"Apple\",\"Ball\"}\n",
    "s.remove(\"Apple\")\n",
    "print(s)"
   ]
  }
 ],
 "metadata": {
  "kernelspec": {
   "display_name": "Python 3 (ipykernel)",
   "language": "python",
   "name": "python3"
  },
  "language_info": {
   "codemirror_mode": {
    "name": "ipython",
    "version": 3
   },
   "file_extension": ".py",
   "mimetype": "text/x-python",
   "name": "python",
   "nbconvert_exporter": "python",
   "pygments_lexer": "ipython3",
   "version": "3.11.5"
  }
 },
 "nbformat": 4,
 "nbformat_minor": 5
}
