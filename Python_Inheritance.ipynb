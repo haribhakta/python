{
 "cells": [
  {
   "cell_type": "code",
   "execution_count": 5,
   "id": "74a8377c",
   "metadata": {},
   "outputs": [
    {
     "name": "stdout",
     "output_type": "stream",
     "text": [
      "Hello world i am Ram. i am from Kathmandu. I am 34\n",
      "34 Kathmandu\n",
      "Hello my address is Kathmandu\n"
     ]
    }
   ],
   "source": [
    "# Inheritance in python\n",
    "class Address:\n",
    "    def __init__(self,add):\n",
    "        self.add=add\n",
    "    def address(self):\n",
    "        print(f\"Hello my address is {self.add}\")\n",
    "        \n",
    "class Data(Address):\n",
    "    def __init__(self,age,add):\n",
    "        self.age=age\n",
    "        Address.__init__(self,add)\n",
    "    def data(self):\n",
    "        print(self.age,self.add)\n",
    "        \n",
    "class info(Data):\n",
    "    def __init__(self,name,age,add):\n",
    "        self.name=name\n",
    "        Data.__init__(self,age,add)\n",
    "    def info(self):\n",
    "        print(f\"Hello world i am {self.name}. i am from {self.add}. I am {self.age}\")\n",
    "\n",
    "obj=info(\"Ram\",34,\"Kathmandu\")\n",
    "obj.info()\n",
    "obj.data()\n",
    "obj.address()\n"
   ]
  },
  {
   "cell_type": "code",
   "execution_count": null,
   "id": "90b754d0",
   "metadata": {},
   "outputs": [],
   "source": [
    "# Multilevel Inheritance\n",
    "class A:\n",
    "    pass\n",
    "class B(A):\n",
    "    pass\n",
    "class C(B):\n",
    "    pass\n",
    "obj = c()"
   ]
  },
  {
   "cell_type": "code",
   "execution_count": null,
   "id": "7e714e1b",
   "metadata": {},
   "outputs": [],
   "source": [
    "# Multiple inheritance\n",
    "class A:\n",
    "    pass\n",
    "class B:\n",
    "    pass\n",
    "class C(A,B):\n",
    "    pass\n",
    "obj = C()"
   ]
  },
  {
   "cell_type": "code",
   "execution_count": null,
   "id": "e3491257",
   "metadata": {},
   "outputs": [],
   "source": []
  }
 ],
 "metadata": {
  "kernelspec": {
   "display_name": "Python 3 (ipykernel)",
   "language": "python",
   "name": "python3"
  },
  "language_info": {
   "codemirror_mode": {
    "name": "ipython",
    "version": 3
   },
   "file_extension": ".py",
   "mimetype": "text/x-python",
   "name": "python",
   "nbconvert_exporter": "python",
   "pygments_lexer": "ipython3",
   "version": "3.11.5"
  }
 },
 "nbformat": 4,
 "nbformat_minor": 5
}
