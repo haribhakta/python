{
 "cells": [
  {
   "cell_type": "code",
   "execution_count": 2,
   "id": "c351f2d3",
   "metadata": {},
   "outputs": [
    {
     "name": "stdout",
     "output_type": "stream",
     "text": [
      "<class 'str'> <class 'str'> <class 'str'>\n"
     ]
    }
   ],
   "source": [
    "# we can define string as \n",
    "a=\"hello world\"\n",
    "b='hello world'\n",
    "c='''hello world'''\n",
    "print(type(a),type(b),type(c))"
   ]
  },
  {
   "cell_type": "code",
   "execution_count": 9,
   "id": "23012956",
   "metadata": {},
   "outputs": [
    {
     "name": "stdout",
     "output_type": "stream",
     "text": [
      "H\n",
      "Hello\n",
      "HloWr\n",
      "dlroW olleH\n",
      "dlroW olleH\n",
      "Hello World\n"
     ]
    }
   ],
   "source": [
    "a=\"Hello World\"\n",
    "print(a[0])\n",
    "print(a[0:5])\n",
    "print(a[0:10:2])\n",
    "print(a[::-1]) #to print text in reverse\n",
    "print(a[-1:-len(a)-1:-1])\n",
    "print(a)"
   ]
  },
  {
   "cell_type": "code",
   "execution_count": 16,
   "id": "e189196d",
   "metadata": {},
   "outputs": [
    {
     "name": "stdout",
     "output_type": "stream",
     "text": [
      "It is not palindrome\n"
     ]
    }
   ],
   "source": [
    "# WAP to enter a string and check whether it is palindrome or not\n",
    "a=\"liril\"\n",
    "if a==a[::-1]:\n",
    "    print (\"It is palindrome\")\n",
    "else:\n",
    "    print (\"It is not palindrome\")\n",
    "    "
   ]
  },
  {
   "cell_type": "code",
   "execution_count": 13,
   "id": "afb5e809",
   "metadata": {},
   "outputs": [
    {
     "name": "stdout",
     "output_type": "stream",
     "text": [
      "Hello i am Ram from Chitwan. I am 32 years old.\n"
     ]
    }
   ],
   "source": [
    "# string formatting\n",
    "name=\"Ram\"\n",
    "age=32\n",
    "add=\"Chitwan\"\n",
    "info=f\"Hello i am {name} from {add}. I am {age} years old.\"\n",
    "print (info)"
   ]
  },
  {
   "cell_type": "code",
   "execution_count": 20,
   "id": "02bcffe3",
   "metadata": {},
   "outputs": [
    {
     "name": "stdout",
     "output_type": "stream",
     "text": [
      "Enter text to search = ram\n",
      "Yes\n",
      "1\n"
     ]
    }
   ],
   "source": [
    "# Search in string\n",
    "names=\"Ram Shyam Hari Geeta Ramesh\"\n",
    "names=names.lower()\n",
    "search=input(\"Enter text to search = \")\n",
    "search=search.lower()\n",
    "if search in names:\n",
    "    print(\"Yes\")\n",
    "    print(search.count(search))\n",
    "else:\n",
    "    print(\"No\")\n",
    "    "
   ]
  },
  {
   "cell_type": "code",
   "execution_count": 21,
   "id": "0da633af",
   "metadata": {},
   "outputs": [
    {
     "name": "stdout",
     "output_type": "stream",
     "text": [
      "Ram Is Eating Rice\n"
     ]
    }
   ],
   "source": [
    "# change into title case\n",
    "a=\"ram is eating rice\"\n",
    "print(a.title())"
   ]
  },
  {
   "cell_type": "code",
   "execution_count": 25,
   "id": "633fcd29",
   "metadata": {},
   "outputs": [
    {
     "name": "stdout",
     "output_type": "stream",
     "text": [
      "Hello World"
     ]
    }
   ],
   "source": [
    "# String with while loop\n",
    "a=\"Hello World\"\n",
    "l=len(a)\n",
    "i=0\n",
    "while i<l:\n",
    "    print(a[i],end='')\n",
    "    i+=1\n",
    "    "
   ]
  }
 ],
 "metadata": {
  "kernelspec": {
   "display_name": "Python 3 (ipykernel)",
   "language": "python",
   "name": "python3"
  },
  "language_info": {
   "codemirror_mode": {
    "name": "ipython",
    "version": 3
   },
   "file_extension": ".py",
   "mimetype": "text/x-python",
   "name": "python",
   "nbconvert_exporter": "python",
   "pygments_lexer": "ipython3",
   "version": "3.11.5"
  }
 },
 "nbformat": 4,
 "nbformat_minor": 5
}
