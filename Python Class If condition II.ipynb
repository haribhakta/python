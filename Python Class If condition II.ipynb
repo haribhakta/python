{
 "cells": [
  {
   "cell_type": "code",
   "execution_count": 2,
   "id": "3c7d81a7",
   "metadata": {},
   "outputs": [
    {
     "name": "stdout",
     "output_type": "stream",
     "text": [
      "Enter a number6\n",
      "Enter another number0\n",
      "Enter an operator to calculate < +,-,*,/ >/\n",
      "Number can not be devide by zero\n"
     ]
    }
   ],
   "source": [
    "#WAP to create a basic calculator\n",
    "a=int(input(\"Enter a number\"))\n",
    "b=int(input(\"Enter another number\"))\n",
    "opt=input(\"Enter an operator to calculate < +,-,*,/ >\")\n",
    "if opt==\"+\":\n",
    "    c=a+b\n",
    "    print(\"Sum=\",c)\n",
    "elif opt==\"-\":\n",
    "    c=a-b\n",
    "    print(\"Difference=\",c)\n",
    "elif opt==\"*\":\n",
    "    c=a*b\n",
    "    print(\"Product=\",c)\n",
    "elif opt==\"/\" and b!=0:\n",
    "    c=a/b\n",
    "    print(\"Division=\",c)\n",
    "elif opt==\"/\" and b==0:\n",
    "    print(\"Number can not be devide by zero\")\n",
    "else:\n",
    "    print(\"Wrong Operator\")\n"
   ]
  },
  {
   "cell_type": "code",
   "execution_count": 5,
   "id": "ee7f07a3",
   "metadata": {},
   "outputs": [
    {
     "name": "stdout",
     "output_type": "stream",
     "text": [
      "Enter a number0\n",
      "It is zero\n"
     ]
    }
   ],
   "source": [
    "#nested if statement\n",
    "#WAP to enter a number and find whether it is even or odd as well as it is negative or positive\n",
    "n=int(input(\"Enter a number\"))\n",
    "if n>0:\n",
    "    if(n%2==0):\n",
    "        print(\"It is +ve even\")\n",
    "    else:\n",
    "        print(\"It is +ve odd\")\n",
    "elif n<0:\n",
    "    if n%2==0:\n",
    "        print(\"It is -ve even\")\n",
    "    else:\n",
    "        print(\"It is -ve odd\")\n",
    "else:\n",
    "    print(\"It is zero\")"
   ]
  }
 ],
 "metadata": {
  "kernelspec": {
   "display_name": "Python 3 (ipykernel)",
   "language": "python",
   "name": "python3"
  },
  "language_info": {
   "codemirror_mode": {
    "name": "ipython",
    "version": 3
   },
   "file_extension": ".py",
   "mimetype": "text/x-python",
   "name": "python",
   "nbconvert_exporter": "python",
   "pygments_lexer": "ipython3",
   "version": "3.11.5"
  }
 },
 "nbformat": 4,
 "nbformat_minor": 5
}
