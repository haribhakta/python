{
 "cells": [
  {
   "cell_type": "code",
   "execution_count": 1,
   "id": "40b3025a",
   "metadata": {},
   "outputs": [
    {
     "name": "stdout",
     "output_type": "stream",
     "text": [
      "Enter a =4\n",
      "Enter b =ee\n",
      "value shoud be int\n"
     ]
    }
   ],
   "source": [
    "try:\n",
    "    a=int(input(\"Enter a =\"))\n",
    "    b=int(input(\"Enter b =\"))\n",
    "    c=a/b\n",
    "    print(c)\n",
    "except ValueError:\n",
    "    print(\"value shoud be int\")\n",
    "except ZeroDivisionError:\n",
    "    print(\"Value of b can not be zero\")"
   ]
  },
  {
   "cell_type": "code",
   "execution_count": 3,
   "id": "e9ec6f5a",
   "metadata": {},
   "outputs": [
    {
     "name": "stdout",
     "output_type": "stream",
     "text": [
      "Enter a =3\n",
      "Enter b =sd\n",
      "value shoud be int\n",
      "Enter a =3\n",
      "Enter b =rr\n",
      "value shoud be int\n",
      "Enter a =dd3\n",
      "value shoud be int\n",
      "Enter a =3\n",
      "Enter b =t\n",
      "value shoud be int\n",
      "Enter a =dsd\n",
      "value shoud be int\n",
      "Enter a =6\n",
      "Enter b =7\n",
      "0.8571428571428571\n"
     ]
    }
   ],
   "source": [
    "def cal():\n",
    "    try:\n",
    "        a=int(input(\"Enter a =\"))\n",
    "        b=int(input(\"Enter b =\"))\n",
    "        c=a/b\n",
    "        print(c)\n",
    "    except ValueError:\n",
    "        print(\"value shoud be int\")\n",
    "        cal()\n",
    "    except ZeroDivisionError:\n",
    "        print(\"Value of b can not be zero\")\n",
    "        cal()\n",
    "cal()\n"
   ]
  },
  {
   "cell_type": "code",
   "execution_count": null,
   "id": "78a62655",
   "metadata": {},
   "outputs": [],
   "source": [
    "def cal():\n",
    "    try:\n",
    "        def\n",
    "        a=int(input(\"Enter a =\"))\n",
    "        b=int(input(\"Enter b =\"))\n",
    "        c=a/b\n",
    "        print(c)\n",
    "    except ValueError:\n",
    "        print(\"value shoud be int\")\n",
    "        cal()\n",
    "    except ZeroDivisionError:\n",
    "        print(\"Value of b can not be zero\")\n",
    "        cal()\n",
    "cal()"
   ]
  }
 ],
 "metadata": {
  "kernelspec": {
   "display_name": "Python 3 (ipykernel)",
   "language": "python",
   "name": "python3"
  },
  "language_info": {
   "codemirror_mode": {
    "name": "ipython",
    "version": 3
   },
   "file_extension": ".py",
   "mimetype": "text/x-python",
   "name": "python",
   "nbconvert_exporter": "python",
   "pygments_lexer": "ipython3",
   "version": "3.11.5"
  }
 },
 "nbformat": 4,
 "nbformat_minor": 5
}
