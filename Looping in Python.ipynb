{
 "cells": [
  {
   "cell_type": "code",
   "execution_count": 5,
   "id": "f577c39b",
   "metadata": {},
   "outputs": [
    {
     "name": "stdout",
     "output_type": "stream",
     "text": [
      "Enter a number = 5\n",
      "5  *  1  =  5\n",
      "5  *  2  =  10\n",
      "5  *  3  =  15\n",
      "5  *  4  =  20\n",
      "5  *  5  =  25\n",
      "5  *  6  =  30\n",
      "5  *  7  =  35\n",
      "5  *  8  =  40\n",
      "5  *  9  =  45\n",
      "5  *  10  =  50\n"
     ]
    }
   ],
   "source": [
    "#WAP to print multiplication table of entered number\n",
    "n=int(input(\"Enter a number = \"))\n",
    "for i in range(1,11):\n",
    "    m=n*i;\n",
    "    print(n,\" * \",i,\" = \",m)"
   ]
  },
  {
   "cell_type": "code",
   "execution_count": 3,
   "id": "128d6f7d",
   "metadata": {},
   "outputs": [
    {
     "name": "stdout",
     "output_type": "stream",
     "text": [
      "Hpw manh numbers3\n",
      "Enter value5\n",
      "Enter value6\n",
      "Enter value7\n",
      "Sum =  18\n"
     ]
    }
   ],
   "source": [
    "# WAp to enter multiple numbers and find its sum\n",
    "s=0\n",
    "n=int(input(\"Hpw many numbers\"))\n",
    "for i in range(n):\n",
    "    x=int(input(\"Enter value\"))\n",
    "    s=s+x\n",
    "print (\"Sum = \",s)"
   ]
  },
  {
   "cell_type": "code",
   "execution_count": 6,
   "id": "6bb81a34",
   "metadata": {},
   "outputs": [
    {
     "name": "stdout",
     "output_type": "stream",
     "text": [
      "Hpw manh numbers2\n",
      "Enter nameram\n",
      "Enter contact no9878899\n",
      "Enter nameshyam\n",
      "Enter contact no87789\n",
      "ram\t9878899\n",
      "shyam\t87789\n",
      "\n"
     ]
    }
   ],
   "source": [
    "# WAp to enter name and address and print them\n",
    "s=str()\n",
    "n=int(input(\"Hpw many numbers\"))\n",
    "for i in range(n):\n",
    "    x=input(\"Enter name\")\n",
    "    y=input(\"Enter contact no\")\n",
    "    s=s+x+\"\\t\"+y+\"\\n\"\n",
    "print (s)"
   ]
  },
  {
   "cell_type": "code",
   "execution_count": 6,
   "id": "d6983829",
   "metadata": {},
   "outputs": [
    {
     "name": "stdout",
     "output_type": "stream",
     "text": [
      "Hpw manh numbers2\n",
      "Enter name=banana\n",
      "Enter quantity=3\n",
      "Enter price=123\n",
      "Enter name=apple\n",
      "Enter quantity=4\n",
      "Enter price=234\n",
      "Product\tQty\tPrice\tTotal\n",
      "banana\t3\t123.0\t369.0\n",
      "apple\t4\t234.0\t936.0\n",
      "\n",
      "Sub Total =  1305.0\n"
     ]
    }
   ],
   "source": [
    "# WAp to prepare bill\n",
    "bill=str()\n",
    "s=0\n",
    "n=int(input(\"Hpw manh numbers\"))\n",
    "for i in range(n):\n",
    "    n=input(\"Enter name=\")\n",
    "    q=int(input(\"Enter quantity=\"))\n",
    "    p=float(input(\"Enter price=\"))\n",
    "    total=q*p\n",
    "    s=s+total\n",
    "    bill=bill+n+\"\\t\"+str(q)+\"\\t\"+str(p)+\"\\t\"+str(total)+\"\\n\"\n",
    "    \n",
    "print(\"Product\\tQty\\tPrice\\tTotal\")\n",
    "print (bill)\n",
    "print(\"Sub Total = \",str(s))"
   ]
  },
  {
   "cell_type": "code",
   "execution_count": 7,
   "id": "01c05d60",
   "metadata": {},
   "outputs": [
    {
     "name": "stdout",
     "output_type": "stream",
     "text": [
      "Enter a number5\n",
      "Factorial Value= 120\n"
     ]
    }
   ],
   "source": [
    "# WAP to enter a number and find its factorial value\n",
    "n=int(input(\"Enter a number = \"))\n",
    "f=1\n",
    "for i  in range(n,0,-1):\n",
    "    f=f*i\n",
    "print(\"Factorial Value = \",f)"
   ]
  },
  {
   "cell_type": "code",
   "execution_count": 9,
   "id": "242037c6",
   "metadata": {},
   "outputs": [
    {
     "name": "stdout",
     "output_type": "stream",
     "text": [
      "P\n",
      "y\n",
      "t\n",
      "h\n",
      "o\n",
      "n\n"
     ]
    }
   ],
   "source": [
    "# for loop in string\n",
    "a=\"Python\"\n",
    "for i in a:\n",
    "    print(i)"
   ]
  },
  {
   "cell_type": "code",
   "execution_count": 10,
   "id": "715ad3ad",
   "metadata": {},
   "outputs": [
    {
     "name": "stdout",
     "output_type": "stream",
     "text": [
      "h.e.l.l.o. .w.o.r.l.d. .i. .a.m. .p.y.t.h.o.n."
     ]
    }
   ],
   "source": [
    "# put . after each letter\n",
    "a=\"hello world i am python\"\n",
    "for i in a:\n",
    "    print(i,end=\".\")\n",
    "    "
   ]
  }
 ],
 "metadata": {
  "kernelspec": {
   "display_name": "Python 3 (ipykernel)",
   "language": "python",
   "name": "python3"
  },
  "language_info": {
   "codemirror_mode": {
    "name": "ipython",
    "version": 3
   },
   "file_extension": ".py",
   "mimetype": "text/x-python",
   "name": "python",
   "nbconvert_exporter": "python",
   "pygments_lexer": "ipython3",
   "version": "3.11.5"
  }
 },
 "nbformat": 4,
 "nbformat_minor": 5
}
