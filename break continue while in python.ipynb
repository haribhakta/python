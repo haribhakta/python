{
 "cells": [
  {
   "cell_type": "code",
   "execution_count": 6,
   "id": "54d2dedf",
   "metadata": {},
   "outputs": [
    {
     "name": "stdout",
     "output_type": "stream",
     "text": [
      "Enter a number=7\n",
      "It is prime\n"
     ]
    }
   ],
   "source": [
    "# wap to enter a number and find whether it is prime or composite\n",
    "n=int(input(\"Enter a number=\"))\n",
    "for i in range(2,n):\n",
    "    if n%i==0:\n",
    "        print(\"It is composite\")\n",
    "        break\n",
    "else:\n",
    "    print(\"It is prime\")"
   ]
  },
  {
   "cell_type": "code",
   "execution_count": 14,
   "id": "03f527d2",
   "metadata": {},
   "outputs": [
    {
     "name": "stdout",
     "output_type": "stream",
     "text": [
      "0\n",
      "1\n",
      "2\n",
      "3\n",
      "4\n",
      "5\n"
     ]
    }
   ],
   "source": [
    "# while loop\n",
    "i=0\n",
    "while i<=5:\n",
    "    print (i)\n",
    "    i=i+1\n"
   ]
  },
  {
   "cell_type": "code",
   "execution_count": 16,
   "id": "82cf5f04",
   "metadata": {},
   "outputs": [
    {
     "name": "stdout",
     "output_type": "stream",
     "text": [
      "Enter number=6\n",
      "6 X 1 = 6\n",
      "6 X 2 = 12\n",
      "6 X 3 = 18\n",
      "6 X 4 = 24\n",
      "6 X 5 = 30\n",
      "6 X 6 = 36\n",
      "6 X 7 = 42\n",
      "6 X 8 = 48\n",
      "6 X 9 = 54\n",
      "6 X 10 = 60\n"
     ]
    }
   ],
   "source": [
    "# wap to enter a number and print its multiplication table using while\n",
    "n=int(input(\"Enter number=\"))\n",
    "i=1\n",
    "while i<=10:\n",
    "    m=n*i\n",
    "    print(n,\"X\",i,\"=\",m)\n",
    "    i=i+1"
   ]
  },
  {
   "cell_type": "code",
   "execution_count": null,
   "id": "6c25b39a",
   "metadata": {},
   "outputs": [],
   "source": [
    "# WAP to develop fibonascci series upto given a number\n",
    "0 1 1 2 3 5 8 13"
   ]
  },
  {
   "cell_type": "code",
   "execution_count": 17,
   "id": "cfc42a65",
   "metadata": {},
   "outputs": [
    {
     "name": "stdout",
     "output_type": "stream",
     "text": [
      "0\n",
      "1\n",
      "2\n",
      "3\n",
      "4\n"
     ]
    }
   ],
   "source": [
    "# break in while\n",
    "i=0\n",
    "while(i<=10):\n",
    "    if i==5:\n",
    "        break\n",
    "    print(i)\n",
    "    i=i+1\n",
    "    "
   ]
  },
  {
   "cell_type": "code",
   "execution_count": 18,
   "id": "71b97c32",
   "metadata": {},
   "outputs": [
    {
     "name": "stdout",
     "output_type": "stream",
     "text": [
      "0\n",
      "1\n",
      "2\n",
      "3\n",
      "4\n",
      "6\n",
      "7\n",
      "8\n",
      "9\n",
      "10\n"
     ]
    }
   ],
   "source": [
    "# continue in while\n",
    "i=0\n",
    "while(i<=10):\n",
    "    if i==5:\n",
    "        i=i+1\n",
    "        continue\n",
    "    print(i)\n",
    "    i=i+1"
   ]
  }
 ],
 "metadata": {
  "kernelspec": {
   "display_name": "Python 3 (ipykernel)",
   "language": "python",
   "name": "python3"
  },
  "language_info": {
   "codemirror_mode": {
    "name": "ipython",
    "version": 3
   },
   "file_extension": ".py",
   "mimetype": "text/x-python",
   "name": "python",
   "nbconvert_exporter": "python",
   "pygments_lexer": "ipython3",
   "version": "3.11.5"
  }
 },
 "nbformat": 4,
 "nbformat_minor": 5
}
