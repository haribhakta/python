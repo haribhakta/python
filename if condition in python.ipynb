{
 "cells": [
  {
   "cell_type": "markdown",
   "id": "06975102",
   "metadata": {},
   "source": [
    "# Python Class if condition"
   ]
  },
  {
   "cell_type": "code",
   "execution_count": 9,
   "id": "33d7c719",
   "metadata": {},
   "outputs": [
    {
     "name": "stdout",
     "output_type": "stream",
     "text": [
      "Enter number=4\n",
      "It is even\n"
     ]
    }
   ],
   "source": [
    "# WAP to enter a number and find out whether it is odd or even\n",
    "n=int(input(\"Enter number=\"))\n",
    "if (n%2==0):\n",
    "    print(\"It is even\")\n",
    "else:\n",
    "    print(\"It is odd\")"
   ]
  },
  {
   "cell_type": "code",
   "execution_count": 8,
   "id": "9f2a6f08",
   "metadata": {},
   "outputs": [
    {
     "name": "stdout",
     "output_type": "stream",
     "text": [
      "Enter number=6\n",
      "It is positve\n"
     ]
    }
   ],
   "source": [
    "# WAP to enter a number and find out whether it is negative or positve\n",
    "n=int(input(\"Enter number=\"))\n",
    "if (n>0):\n",
    "    print(\"It is positve\")\n",
    "else:\n",
    "    print(\"It is negative\")"
   ]
  },
  {
   "cell_type": "code",
   "execution_count": 11,
   "id": "ac213df0",
   "metadata": {},
   "outputs": [
    {
     "name": "stdout",
     "output_type": "stream",
     "text": [
      "Enter first number54\n",
      "Enter second number56\n",
      "Enter third number76\n",
      "The greatest =  76\n"
     ]
    }
   ],
   "source": [
    "# WAP to enter any three number and find out the greatest one\n",
    "a=int(input(\"Enter first number\"))\n",
    "b=int(input(\"Enter second number\"))\n",
    "c=int(input(\"Enter third number\"))\n",
    "if(a>b and a>c):\n",
    "    print(\"The greatest = \",a)\n",
    "elif(b>c):\n",
    "    print(\"The greatest = \",b)\n",
    "else:\n",
    "    print(\"The greatest = \",c)\n"
   ]
  },
  {
   "cell_type": "code",
   "execution_count": 16,
   "id": "e49a3f7f",
   "metadata": {},
   "outputs": [
    {
     "name": "stdout",
     "output_type": "stream",
     "text": [
      "Enter physics:65\n",
      "Enter chemistry:78\n",
      "Enter math:45\n",
      "Enter english:89\n",
      "Enter nepali:98\n",
      "Total =  375.0\n",
      "Percent =  75.0\n",
      "Grade =  B\n"
     ]
    }
   ],
   "source": [
    "#WAP to enter marks of any five subject and find out the grade\n",
    "phy=float(input(\"Enter physics:\"))\n",
    "ch=float(input(\"Enter chemistry:\"))\n",
    "math=float(input(\"Enter math:\"))\n",
    "eng=float(input(\"Enter english:\"))\n",
    "nep=float(input(\"Enter nepali:\"))\n",
    "total=phy+ch+math+eng+nep\n",
    "per=total/5\n",
    "if per>=80:\n",
    "    g=\"A\"\n",
    "elif per>=60:\n",
    "    g=\"B\"\n",
    "elif per>=50:\n",
    "    g=\"C\"\n",
    "else:\n",
    "    g=\"F\"\n",
    "print(\"Total = \",total)\n",
    "print(\"Percent = \",per)\n",
    "print(\"Grade = \",g)"
   ]
  },
  {
   "cell_type": "code",
   "execution_count": 1,
   "id": "a6bfeca0",
   "metadata": {},
   "outputs": [
    {
     "name": "stdout",
     "output_type": "stream",
     "text": [
      "Enter a number57\n",
      "Enter another number76\n",
      "Enter an operator to calculate < +,-,*,/ >/\n",
      "Division= 0.75\n"
     ]
    }
   ],
   "source": [
    "#WAP to create a basic calculator\n",
    "a=int(input(\"Enter a number\"))\n",
    "b=int(input(\"Enter another number\"))\n",
    "opt=input(\"Enter an operator to calculate < +,-,*,/ >\")\n",
    "if opt==\"+\":\n",
    "    c=a+b\n",
    "    print(\"Sum=\",c)\n",
    "elif opt==\"-\":\n",
    "    c=a-b\n",
    "    print(\"Difference=\",c)\n",
    "elif opt==\"*\":\n",
    "    c=a*b\n",
    "    print(\"Product=\",c)\n",
    "elif opt==\"/\":\n",
    "    c=a/b\n",
    "    print(\"Division=\",c)\n",
    "else:\n",
    "    print(\"Wrong Operator\")\n"
   ]
  },
  {
   "cell_type": "code",
   "execution_count": null,
   "id": "cb60c5ed",
   "metadata": {},
   "outputs": [],
   "source": []
  }
 ],
 "metadata": {
  "kernelspec": {
   "display_name": "Python 3 (ipykernel)",
   "language": "python",
   "name": "python3"
  },
  "language_info": {
   "codemirror_mode": {
    "name": "ipython",
    "version": 3
   },
   "file_extension": ".py",
   "mimetype": "text/x-python",
   "name": "python",
   "nbconvert_exporter": "python",
   "pygments_lexer": "ipython3",
   "version": "3.11.5"
  }
 },
 "nbformat": 4,
 "nbformat_minor": 5
}
