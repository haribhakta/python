{
 "cells": [
  {
   "cell_type": "markdown",
   "id": "279c0b97",
   "metadata": {},
   "source": [
    "# Python Class 2080/06/18 Thursday\n",
    "\n",
    "# to find simple interest\n",
    "p=float(input(\"Enter value of principle:\"))\n",
    "t=float(input(\"Enter value of time:\"))\n",
    "r=float(input(\"Enter value of interest rate:\"))\n",
    "i = p*t*r/100\n",
    "print(\"Simple interest = \",i)"
   ]
  },
  {
   "cell_type": "code",
   "execution_count": 4,
   "id": "e4295de0",
   "metadata": {},
   "outputs": [
    {
     "name": "stdout",
     "output_type": "stream",
     "text": [
      "Enter name=hari bhaka acharya\n",
      "Enter address=bharatpur\n",
      "Enter age=55\n",
      "Hello, My name is hari bhaka acharya I am from bharatpurI am 55years\n"
     ]
    }
   ],
   "source": [
    "# enter name address and age then print them \n",
    "name=input(\"Enter name=\")\n",
    "add=input(\"Enter address=\")\n",
    "age=int(input(\"Enter age=\"))\n",
    "info=\"Hello, My name is \"+name+\" I am from \"+ add + \"I am \" + str(age) + \"years\"\n",
    "print(info)\n"
   ]
  },
  {
   "cell_type": "code",
   "execution_count": 4,
   "id": "de5347e5",
   "metadata": {},
   "outputs": [
    {
     "name": "stdout",
     "output_type": "stream",
     "text": [
      "Enter marks in physics =45\n",
      "Enter marks in Chemistry =65\n",
      "Enter marks in math =44\n",
      "Enter marks in English =33\n",
      "Enter marks in Nepali =33\n",
      "Total = 220.0\n",
      "Percent = 44.0\n"
     ]
    }
   ],
   "source": [
    "# enter marks of any five subject and find out total and percentage\n",
    "phy=float(input(\"Enter marks in physics =\"))\n",
    "ch=float(input(\"Enter marks in Chemistry =\"))\n",
    "math=float(input(\"Enter marks in math =\"))\n",
    "eng=float(input(\"Enter marks in English =\"))\n",
    "nep=float(input(\"Enter marks in Nepali =\"))\n",
    "t=phy+ch+math+eng+nep\n",
    "p=t/5\n",
    "print(\"Total = \"+str(t))\n",
    "print(\"Percent = \"+str(p))\n"
   ]
  }
 ],
 "metadata": {
  "kernelspec": {
   "display_name": "Python 3 (ipykernel)",
   "language": "python",
   "name": "python3"
  },
  "language_info": {
   "codemirror_mode": {
    "name": "ipython",
    "version": 3
   },
   "file_extension": ".py",
   "mimetype": "text/x-python",
   "name": "python",
   "nbconvert_exporter": "python",
   "pygments_lexer": "ipython3",
   "version": "3.11.5"
  }
 },
 "nbformat": 4,
 "nbformat_minor": 5
}
