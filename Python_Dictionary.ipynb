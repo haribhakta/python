{
 "cells": [
  {
   "cell_type": "code",
   "execution_count": null,
   "id": "3b7af503",
   "metadata": {},
   "outputs": [],
   "source": [
    "#Dictionary\n",
    "# -Multiple data\n",
    "# -Duplicate data\n",
    "# -Indexing\n",
    "# -Mutable datatype"
   ]
  },
  {
   "cell_type": "code",
   "execution_count": null,
   "id": "223aba32",
   "metadata": {},
   "outputs": [],
   "source": [
    "# d = {<key>:<value>,<key>:<value>,...}"
   ]
  },
  {
   "cell_type": "code",
   "execution_count": 1,
   "id": "1fa2dd7c",
   "metadata": {},
   "outputs": [
    {
     "name": "stdout",
     "output_type": "stream",
     "text": [
      "Apple\n",
      "Cat\n"
     ]
    }
   ],
   "source": [
    "d = {'a':'Apple', 'b':'Ball', 'c':'Cat'}\n",
    "print(d['a'])\n",
    "print(d['c'])"
   ]
  },
  {
   "cell_type": "code",
   "execution_count": 2,
   "id": "d0c32bc2",
   "metadata": {},
   "outputs": [
    {
     "name": "stdout",
     "output_type": "stream",
     "text": [
      "Apple\n",
      "Cat\n",
      "{'a': 'Apple', 'b': 'Ball', 'c': 'Cat', 'A': 'Ant'}\n"
     ]
    }
   ],
   "source": [
    "# -Duplicate data but no key\n",
    "d = {'a':'Apple', 'b':'Ball', 'c':'Cat','A':'Ant'}\n",
    "print(d['a'])\n",
    "print(d['c'])\n",
    "print(d)"
   ]
  },
  {
   "cell_type": "code",
   "execution_count": 3,
   "id": "c6a4e165",
   "metadata": {},
   "outputs": [
    {
     "data": {
      "text/plain": [
       "4"
      ]
     },
     "execution_count": 3,
     "metadata": {},
     "output_type": "execute_result"
    }
   ],
   "source": [
    "len(d)"
   ]
  },
  {
   "cell_type": "code",
   "execution_count": 4,
   "id": "c15b5833",
   "metadata": {},
   "outputs": [
    {
     "data": {
      "text/plain": [
       "{'Ram': 9808778765, 'Shyam': 9808556543, 'Hari': 984555654}"
      ]
     },
     "execution_count": 4,
     "metadata": {},
     "output_type": "execute_result"
    }
   ],
   "source": [
    "# d = dict()\n",
    "d = {}\n",
    "d['Ram'] = 9808778765\n",
    "d['Shyam'] = 9808556543\n",
    "d['Hari'] = 984555654\n",
    "d"
   ]
  },
  {
   "cell_type": "code",
   "execution_count": 6,
   "id": "1bd88697",
   "metadata": {},
   "outputs": [
    {
     "name": "stdout",
     "output_type": "stream",
     "text": [
      "Enter n = 3\n",
      "Enter name = hari\n",
      "Entr phon = 908899\n",
      "Enter name = shyam\n",
      "Entr phon = 8787889\n",
      "Enter name = reeta\n",
      "Entr phon = 876788\n",
      "{'hari': '908899', 'shyam': '8787889', 'reeta': '876788'}\n"
     ]
    }
   ],
   "source": [
    "d = {}\n",
    "n = int(input(\"Enter n = \"))\n",
    "for i in range(n):\n",
    "    name = input(\"Enter name = \")\n",
    "    phone = input(\"Entr phon = \")\n",
    "    d[name] = phone\n",
    "print(d)"
   ]
  },
  {
   "cell_type": "code",
   "execution_count": 7,
   "id": "94694729",
   "metadata": {},
   "outputs": [
    {
     "data": {
      "text/plain": [
       "{'Ram': 980887657, 'SHyam': '9808778765'}"
      ]
     },
     "execution_count": 7,
     "metadata": {},
     "output_type": "execute_result"
    }
   ],
   "source": [
    "a = {'Ram': '9808778765', 'SHyam': '9808778765'}\n",
    "a['Ram'] = 980887657\n",
    "a"
   ]
  },
  {
   "cell_type": "code",
   "execution_count": 8,
   "id": "5d6c549f",
   "metadata": {},
   "outputs": [
    {
     "name": "stdout",
     "output_type": "stream",
     "text": [
      "Ram\n",
      "Shyam\n",
      "Hari\n"
     ]
    }
   ],
   "source": [
    "a = ['Ram','Shyam','Hari']\n",
    "for i in a:\n",
    "    print(i)"
   ]
  },
  {
   "cell_type": "code",
   "execution_count": 9,
   "id": "77996a57",
   "metadata": {},
   "outputs": [
    {
     "name": "stdout",
     "output_type": "stream",
     "text": [
      "Ram\n",
      "SHyam\n",
      "9808778765\n",
      "9808778765\n",
      "('Ram', '9808778765')\n",
      "('SHyam', '9808778765')\n"
     ]
    }
   ],
   "source": [
    "#for only key\n",
    "a = {'Ram': '9808778765', 'SHyam': '9808778765'}\n",
    "for i in a:\n",
    "    print(i)\n",
    "#for value\n",
    "a = {'Ram': '9808778765', 'SHyam': '9808778765'}\n",
    "for i in a.values():\n",
    "    print(i)\n",
    "#for both\n",
    "a = {'Ram': '9808778765', 'SHyam': '9808778765'}\n",
    "for i in a.items():\n",
    "    print(i)"
   ]
  },
  {
   "cell_type": "code",
   "execution_count": 10,
   "id": "d77f8128",
   "metadata": {},
   "outputs": [
    {
     "name": "stdout",
     "output_type": "stream",
     "text": [
      "{'SHyam': '9808778765'}\n"
     ]
    }
   ],
   "source": [
    "# delete\n",
    "a = {'Ram': '9808778765', 'SHyam': '9808778765'}\n",
    "del a['Ram']\n",
    "print(a)"
   ]
  },
  {
   "cell_type": "code",
   "execution_count": 11,
   "id": "1b9b336c",
   "metadata": {},
   "outputs": [
    {
     "name": "stdout",
     "output_type": "stream",
     "text": [
      "{'SHyam': '9808778765'}\n",
      "980877876\n"
     ]
    }
   ],
   "source": [
    "a = {'Ram': '980877876', 'SHyam': '9808778765'}\n",
    "b = a.pop('Ram')\n",
    "print(a)\n",
    "print(b)"
   ]
  },
  {
   "cell_type": "code",
   "execution_count": 12,
   "id": "70c72e50",
   "metadata": {},
   "outputs": [
    {
     "name": "stdout",
     "output_type": "stream",
     "text": [
      "{1: 1, 2: 4, 3: 9}\n"
     ]
    }
   ],
   "source": [
    "a = {1:1,2:4,3:9}\n",
    "print(a)"
   ]
  },
  {
   "cell_type": "code",
   "execution_count": 13,
   "id": "c12a788e",
   "metadata": {},
   "outputs": [
    {
     "name": "stdout",
     "output_type": "stream",
     "text": [
      "Enter namehari\n",
      "Enter phone98899\n"
     ]
    },
    {
     "data": {
      "text/plain": [
       "{'hari': '98899'}"
      ]
     },
     "execution_count": 13,
     "metadata": {},
     "output_type": "execute_result"
    }
   ],
   "source": [
    "a = {input(\"Enter name\"):input(\"Enter phone\")}\n",
    "a"
   ]
  },
  {
   "cell_type": "code",
   "execution_count": 14,
   "id": "eae24bf6",
   "metadata": {},
   "outputs": [
    {
     "name": "stdout",
     "output_type": "stream",
     "text": [
      "{'Ram': [9845667654, 9845676654], 'Shyam': [9878776765, 9808667876]}\n"
     ]
    }
   ],
   "source": [
    "# list inside dict\n",
    "a = {'Ram':[9845667654,9845676654],\n",
    "    'Shyam':[9878776765,9808667876]}\n",
    "print(a)"
   ]
  },
  {
   "cell_type": "code",
   "execution_count": 15,
   "id": "f293560c",
   "metadata": {},
   "outputs": [
    {
     "data": {
      "text/plain": [
       "{'name': ['Ram', 'Shyam', 'Hari'],\n",
       " 'ntc': [9865556543, 9867665432, 9867554365],\n",
       " 'ncell': [9808778765, 9808778754, 9808445654]}"
      ]
     },
     "execution_count": 15,
     "metadata": {},
     "output_type": "execute_result"
    }
   ],
   "source": [
    "a = {'name':['Ram','Shyam','Hari'],\n",
    "    'ntc':[9865556543,9867665432,9867554365],\n",
    "    'ncell':[9808778765,9808778754,9808445654]}\n",
    "a"
   ]
  },
  {
   "cell_type": "code",
   "execution_count": 25,
   "id": "c5393133",
   "metadata": {},
   "outputs": [
    {
     "name": "stdout",
     "output_type": "stream",
     "text": [
      "Enter n = 1\n",
      "Enter name = ram\n",
      "Entr ntc phone no  = 988909\n",
      "Enter ncell no = 7876789\n",
      "{'ram': ['988909', '7876789']}\n"
     ]
    }
   ],
   "source": [
    "#list inside dict\n",
    "d = {}\n",
    "n = int(input(\"Enter n = \"))\n",
    "for i in range(n):\n",
    "    name = input(\"Enter name = \")\n",
    "    ntc = input(\"Entr ntc phone no  = \")\n",
    "    ncell = input(\"Enter ncell no = \")\n",
    "    d[name] = [ntc,ncell]\n",
    "print(d)"
   ]
  },
  {
   "cell_type": "code",
   "execution_count": 2,
   "id": "7c6a5723",
   "metadata": {},
   "outputs": [
    {
     "ename": "KeyError",
     "evalue": "'ram'",
     "output_type": "error",
     "traceback": [
      "\u001b[1;31m---------------------------------------------------------------------------\u001b[0m",
      "\u001b[1;31mKeyError\u001b[0m                                  Traceback (most recent call last)",
      "Cell \u001b[1;32mIn[2], line 1\u001b[0m\n\u001b[1;32m----> 1\u001b[0m d[\u001b[38;5;124m'\u001b[39m\u001b[38;5;124mram\u001b[39m\u001b[38;5;124m'\u001b[39m]\n",
      "\u001b[1;31mKeyError\u001b[0m: 'ram'"
     ]
    }
   ],
   "source": [
    "d['ram']"
   ]
  },
  {
   "cell_type": "code",
   "execution_count": 22,
   "id": "6436ef6e",
   "metadata": {},
   "outputs": [
    {
     "ename": "KeyError",
     "evalue": "'Ram'",
     "output_type": "error",
     "traceback": [
      "\u001b[1;31m---------------------------------------------------------------------------\u001b[0m",
      "\u001b[1;31mKeyError\u001b[0m                                  Traceback (most recent call last)",
      "Cell \u001b[1;32mIn[22], line 1\u001b[0m\n\u001b[1;32m----> 1\u001b[0m \u001b[38;5;28mprint\u001b[39m(\u001b[38;5;124m\"\u001b[39m\u001b[38;5;124mntc no of Ram\u001b[39m\u001b[38;5;124m\"\u001b[39m,d[\u001b[38;5;124m'\u001b[39m\u001b[38;5;124mRam\u001b[39m\u001b[38;5;124m'\u001b[39m][\u001b[38;5;241m0\u001b[39m])\n",
      "\u001b[1;31mKeyError\u001b[0m: 'Ram'"
     ]
    }
   ],
   "source": [
    "print(\"ntc no of Ram\",d['Ram'][0])"
   ]
  },
  {
   "cell_type": "code",
   "execution_count": 27,
   "id": "b936cdb4",
   "metadata": {},
   "outputs": [
    {
     "name": "stdout",
     "output_type": "stream",
     "text": [
      "Enter n = 1\n",
      "Enter name = hari\n",
      "Entr ntc phone no  = 9889\n",
      "Enter ncell no = 6789\n",
      "{'name': ['hari'], 'ntc': ['9889'], 'ncell': ['6789']}\n"
     ]
    }
   ],
   "source": [
    "# a = {'name':['Ram','Shyam','Hari'],\n",
    "#     'ntc':[9865556543,9867665432,9867554365],\n",
    "#     'ncell':[9808778765,9808778754,9808445654]}\n",
    "# a\n",
    "#list inside dict\n",
    "d = {'name':[],'ntc':[],'ncell':[]}\n",
    "n = int(input(\"Enter n = \"))\n",
    "for i in range(n):\n",
    "    name = input(\"Enter name = \")\n",
    "    ntc = input(\"Entr ntc phone no  = \")\n",
    "    ncell = input(\"Enter ncell no = \")\n",
    "    d['name'].append(name)\n",
    "    d['ntc'].append(ntc)\n",
    "    d['ncell'].append(ncell)\n",
    "\n",
    "print(d)"
   ]
  },
  {
   "cell_type": "code",
   "execution_count": 28,
   "id": "4a47bd6c",
   "metadata": {},
   "outputs": [
    {
     "name": "stdout",
     "output_type": "stream",
     "text": [
      "Ram\n",
      "9856556543\n",
      "9808778765\n"
     ]
    }
   ],
   "source": [
    "d = {'name': ['Ram', 'Shyam'],\n",
    "     'ntc': ['9856556543', '9856776546'], \n",
    "     'ncell': ['9808778765', '9808778765']}\n",
    "print(d['name'][0])\n",
    "print(d['ntc'][0])\n",
    "print(d['ncell'][0])"
   ]
  },
  {
   "cell_type": "code",
   "execution_count": 31,
   "id": "55bba7d5",
   "metadata": {},
   "outputs": [],
   "source": [
    "d = {'name': ['Ram', 'Shyam'], 'ntc': ['9856556543', '9856776546'], 'ncell': ['9808778765', '9808778765']}\n",
    "\n",
    "del d['name'][0]\n",
    "del d['ntc'][0]\n",
    "del d['ncell'][0]"
   ]
  },
  {
   "cell_type": "code",
   "execution_count": 32,
   "id": "036124d2",
   "metadata": {},
   "outputs": [
    {
     "name": "stdout",
     "output_type": "stream",
     "text": [
      "[{'name': 'Ram', 'age': 34, 'address': 'Kathmandu'}, {'name': 'Shyam', 'age': 44, 'address': 'Bhaktapur'}, {'name': 'Hari', 'age': 56, 'address': 'Lalitpur'}]\n"
     ]
    }
   ],
   "source": [
    "# dict inside list\n",
    "l = [{'name':'Ram','age':34,'address':'Kathmandu'},\n",
    "    {'name':'Shyam','age':44,'address':'Bhaktapur'},\n",
    "    {'name':'Hari','age':56,'address':'Lalitpur'}]\n",
    "\n",
    "print(l)"
   ]
  },
  {
   "cell_type": "code",
   "execution_count": 33,
   "id": "481bb656",
   "metadata": {},
   "outputs": [
    {
     "name": "stdout",
     "output_type": "stream",
     "text": [
      "{'name': 'Hari', 'age': 56, 'address': 'Lalitpur'}\n"
     ]
    }
   ],
   "source": [
    "print(l[2])"
   ]
  },
  {
   "cell_type": "code",
   "execution_count": 34,
   "id": "45182a4b",
   "metadata": {},
   "outputs": [
    {
     "name": "stdout",
     "output_type": "stream",
     "text": [
      "Ram\n"
     ]
    }
   ],
   "source": [
    "print(l[0]['name'])"
   ]
  },
  {
   "cell_type": "code",
   "execution_count": 35,
   "id": "b00f3438",
   "metadata": {},
   "outputs": [
    {
     "name": "stdout",
     "output_type": "stream",
     "text": [
      "{'name': 'Ram', 'age': 34, 'address': 'Kathmandu'}\n",
      "{'name': 'Shyam', 'age': 44, 'address': 'Bhaktapur'}\n",
      "{'name': 'Hari', 'age': 56, 'address': 'Lalitpur'}\n"
     ]
    }
   ],
   "source": [
    "for i in l:\n",
    "    print(i)"
   ]
  },
  {
   "cell_type": "code",
   "execution_count": 36,
   "id": "403ad4ae",
   "metadata": {},
   "outputs": [
    {
     "name": "stdout",
     "output_type": "stream",
     "text": [
      "Apple\n",
      "Ball\n",
      "Cat\n"
     ]
    }
   ],
   "source": [
    "l = ['Apple','Ball','Cat']\n",
    "for i in l:\n",
    "    print(i)"
   ]
  },
  {
   "cell_type": "code",
   "execution_count": 37,
   "id": "68ff33b9",
   "metadata": {},
   "outputs": [
    {
     "name": "stdout",
     "output_type": "stream",
     "text": [
      "[{'name': 'Ram', 'age': 34, 'address': 'Kathmandu'}, {'name': 'Shyam', 'age': 44, 'address': 'Bhaktapur'}, {'name': 'Hari', 'age': 56, 'address': 'Lalitpur'}]\n"
     ]
    }
   ],
   "source": [
    "# dict inside list\n",
    "l = [{'name':'Ram','age':34,'address':'Kathmandu'},\n",
    "    {'name':'Shyam','age':44,'address':'Bhaktapur'},\n",
    "    {'name':'Hari','age':56,'address':'Lalitpur'}]\n",
    "\n",
    "print(l)"
   ]
  },
  {
   "cell_type": "code",
   "execution_count": 38,
   "id": "c63d8290",
   "metadata": {},
   "outputs": [
    {
     "name": "stdout",
     "output_type": "stream",
     "text": [
      "Enter n = 1\n",
      "Enter name = hari\n",
      "Enter age = 32\n",
      "Enter address = bharatpur\n",
      "[{'name': 'hari', 'age': 32, 'address': 'bharatpur'}]\n"
     ]
    }
   ],
   "source": [
    "l = []\n",
    "n = int(input(\"Enter n = \"))\n",
    "for i in range(n):\n",
    "    name = input(\"Enter name = \")\n",
    "    age = int(input(\"Enter age = \"))\n",
    "    address = input(\"Enter address = \")\n",
    "    info = {'name':name,'age':age,'address':address}\n",
    "    l.append(info)\n",
    "    \n",
    "print(l)"
   ]
  },
  {
   "cell_type": "code",
   "execution_count": 39,
   "id": "91056465",
   "metadata": {},
   "outputs": [
    {
     "name": "stdout",
     "output_type": "stream",
     "text": [
      "['hari', 32, 'bharatpur']\n"
     ]
    }
   ],
   "source": [
    "for i in l:\n",
    "    print(list(i.values()))"
   ]
  },
  {
   "cell_type": "code",
   "execution_count": 40,
   "id": "692ae7c2",
   "metadata": {},
   "outputs": [
    {
     "name": "stdout",
     "output_type": "stream",
     "text": [
      "{'name': 'Ram', 'age': 34, 'address': 'Kathmandu'}\n",
      "{'name': 'Shyam', 'age': 44, 'address': 'Bhaktapur'}\n",
      "{'name': 'Hari', 'address': 'Lalitpur'}\n"
     ]
    }
   ],
   "source": [
    "# dict inside list\n",
    "l = [{'name':'Ram','age':34,'address':'Kathmandu'},\n",
    "    {'name':'Shyam','age':44,'address':'Bhaktapur'},\n",
    "    {'name':'Hari','address':'Lalitpur'}]\n",
    "for i in l:\n",
    "    print(i)"
   ]
  },
  {
   "cell_type": "code",
   "execution_count": 41,
   "id": "b81f1379",
   "metadata": {},
   "outputs": [
    {
     "data": {
      "text/plain": [
       "[{'name': 'Ram', 'age': 34, 'address': 'Kathmandu', 'phone': 9878776765},\n",
       " {'name': 'Shyam', 'age': 44, 'address': 'Bhaktapur'},\n",
       " {'name': 'Hari', 'age': 56, 'address': 'Lalitpur'}]"
      ]
     },
     "execution_count": 41,
     "metadata": {},
     "output_type": "execute_result"
    }
   ],
   "source": [
    "l = [{'name':'Ram','age':34,'address':'Kathmandu'},\n",
    "    {'name':'Shyam','age':44,'address':'Bhaktapur'},\n",
    "    {'name':'Hari','age':56,'address':'Lalitpur'}]\n",
    "l[0]['phone'] = 9878776765\n",
    "l"
   ]
  },
  {
   "cell_type": "code",
   "execution_count": 42,
   "id": "1319c6fd",
   "metadata": {},
   "outputs": [
    {
     "name": "stdout",
     "output_type": "stream",
     "text": [
      "['Ram', 34, 'Kathmandu', 9878776765]\n",
      "['Shyam', 44, 'Bhaktapur']\n",
      "['Hari', 56, 'Lalitpur']\n"
     ]
    }
   ],
   "source": [
    "for i in l:\n",
    "    print(list(i.values()))"
   ]
  },
  {
   "cell_type": "code",
   "execution_count": 43,
   "id": "371de102",
   "metadata": {},
   "outputs": [
    {
     "name": "stdout",
     "output_type": "stream",
     "text": [
      "Enter phone = 87788\n",
      "Enter phone = 877889\n",
      "Enter phone = 887898\n",
      "[{'name': 'Ram', 'age': 34, 'address': 'Kathmandu', 'phone': '87788'}, {'name': 'Shyam', 'age': 44, 'address': 'Bhaktapur', 'phone': '877889'}, {'name': 'Hari', 'age': 56, 'address': 'Lalitpur', 'phone': '887898'}]\n"
     ]
    }
   ],
   "source": [
    "l = [{'name':'Ram','age':34,'address':'Kathmandu'},\n",
    "    {'name':'Shyam','age':44,'address':'Bhaktapur'},\n",
    "    {'name':'Hari','age':56,'address':'Lalitpur'}]\n",
    "for i in range(len(l)):\n",
    "    l[i]['phone'] = input(\"Enter phone = \")\n",
    "print(l)"
   ]
  },
  {
   "cell_type": "code",
   "execution_count": 44,
   "id": "5b07d574",
   "metadata": {},
   "outputs": [
    {
     "data": {
      "text/plain": [
       "{'a': 'Apple', 'b': 'Ball', 'c': 'Cat'}"
      ]
     },
     "execution_count": 44,
     "metadata": {},
     "output_type": "execute_result"
    }
   ],
   "source": [
    "l = [['a','Apple'],['b','Ball'],['c','Cat']]\n",
    "dict(l)"
   ]
  },
  {
   "cell_type": "code",
   "execution_count": 1,
   "id": "c32fec3f",
   "metadata": {},
   "outputs": [
    {
     "name": "stdout",
     "output_type": "stream",
     "text": [
      "{1: {'name': 'ram', 'age': 34, 'address': 'kathmandu'}, 2: {'name': 'shyam', 'age': 32, 'address': 'bhaktapur'}, 3: {'name': 'hari', 'age': 36, 'address': 'lalitpur'}}\n"
     ]
    }
   ],
   "source": [
    "# dictionary inside dictionary\n",
    "d={1:{'name':'ram','age':34,'address':'kathmandu'},\n",
    "  2:{'name':'shyam','age':32,'address':'bhaktapur'},\n",
    "  3:{'name':'hari','age':36,'address':'lalitpur'}}\n",
    "print(d)"
   ]
  },
  {
   "cell_type": "code",
   "execution_count": 3,
   "id": "0cf4d185",
   "metadata": {},
   "outputs": [
    {
     "name": "stdout",
     "output_type": "stream",
     "text": [
      "Enter n = 2\n",
      "Enter Symbol no = 22\n",
      "Enter name = hari\n",
      "Enter age = 23\n",
      "Enter address = bharat\n",
      "Enter Symbol no = 111\n",
      "Enter name = yyhj\n",
      "Enter age = 23\n",
      "Enter address = khsfsdf\n",
      "{'22': {'name': 'hari', 'age': 23, 'address': 'bharat'}, '111': {'name': 'yyhj', 'age': 23, 'address': 'khsfsdf'}}\n"
     ]
    }
   ],
   "source": [
    "d = {}\n",
    "n = int(input(\"Enter n = \"))\n",
    "for i in range(1,n+1):\n",
    "    symbol_no = input(\"Enter Symbol no = \")\n",
    "    name = input(\"Enter name = \")\n",
    "    age = int(input(\"Enter age = \"))\n",
    "    address = input(\"Enter address = \")\n",
    "    info = {'name':name,'age':age,'address':address}\n",
    "    d[symbol_no] = info\n",
    "    \n",
    "print(d)\n",
    "    "
   ]
  },
  {
   "cell_type": "code",
   "execution_count": 4,
   "id": "e48f3641",
   "metadata": {},
   "outputs": [
    {
     "name": "stdout",
     "output_type": "stream",
     "text": [
      "Enter sn = 1\n"
     ]
    },
    {
     "data": {
      "text/plain": [
       "{'name': 'Ram', 'age': 34, 'address': 'Kathmandu'}"
      ]
     },
     "execution_count": 4,
     "metadata": {},
     "output_type": "execute_result"
    }
   ],
   "source": [
    "d = {1:{'name':'Ram','age':34,'address':'Kathmandu'},\n",
    "    2:{'name':'Shyam','age':44,'address':'Bhaktapur'},\n",
    "    3:{'name':'Hari','age':56,'address':'Lalitpur'}}\n",
    "\n",
    "sn = int(input(\"Enter sn = \"))\n",
    "d[sn]"
   ]
  },
  {
   "cell_type": "code",
   "execution_count": 5,
   "id": "2ab29b13",
   "metadata": {},
   "outputs": [
    {
     "data": {
      "text/plain": [
       "{1: {'name': 'Ram', 'age': 34, 'address': 'Kathmandu'},\n",
       " 2: {'name': 'Shyam', 'age': 44, 'address': 'Bhaktapur'},\n",
       " 3: {'name': 'Hari', 'age': 56, 'address': 'Lalitpur'},\n",
       " 0: {'name': 'Rama', 'age': 34, 'address': 'Palpa'}}"
      ]
     },
     "execution_count": 5,
     "metadata": {},
     "output_type": "execute_result"
    }
   ],
   "source": [
    "d[0] = {'name':'Rama','age':34,'address':'Palpa'}\n",
    "d"
   ]
  },
  {
   "cell_type": "code",
   "execution_count": 6,
   "id": "0c15c42e",
   "metadata": {},
   "outputs": [
    {
     "name": "stdout",
     "output_type": "stream",
     "text": [
      "{1: {'name': 'Ram', 'age': 34, 'address': 'Kathmandu'}, 2: {'name': 'Shyam', 'age': 44, 'address': 'Bhaktapur'}, 3: {'name': 'Hari', 'age': 56, 'address': 'Lalitpur'}}\n"
     ]
    }
   ],
   "source": [
    "del d[0]\n",
    "print(d)"
   ]
  },
  {
   "cell_type": "code",
   "execution_count": 7,
   "id": "b023d80c",
   "metadata": {},
   "outputs": [
    {
     "data": {
      "text/plain": [
       "'Lalitpur'"
      ]
     },
     "execution_count": 7,
     "metadata": {},
     "output_type": "execute_result"
    }
   ],
   "source": [
    "a = {1: {'name': 'Ram',\n",
    "       'age': 34, \n",
    "     'address': {'per':'Kathmandu',\n",
    "                 'temp':'Lalitpur'}}}\n",
    "a[1]['address']['temp']"
   ]
  },
  {
   "cell_type": "code",
   "execution_count": 8,
   "id": "489d1788",
   "metadata": {},
   "outputs": [
    {
     "ename": "NameError",
     "evalue": "name 'l' is not defined",
     "output_type": "error",
     "traceback": [
      "\u001b[1;31m---------------------------------------------------------------------------\u001b[0m",
      "\u001b[1;31mNameError\u001b[0m                                 Traceback (most recent call last)",
      "Cell \u001b[1;32mIn[8], line 2\u001b[0m\n\u001b[0;32m      1\u001b[0m \u001b[38;5;66;03m# d.items()\u001b[39;00m\n\u001b[1;32m----> 2\u001b[0m l[\u001b[38;5;241m0\u001b[39m][\u001b[38;5;124m'\u001b[39m\u001b[38;5;124mphone\u001b[39m\u001b[38;5;124m'\u001b[39m] \u001b[38;5;241m=\u001b[39m \u001b[38;5;124m\"\u001b[39m\u001b[38;5;124m9878998765\u001b[39m\u001b[38;5;124m\"\u001b[39m\n\u001b[0;32m      3\u001b[0m l\n",
      "\u001b[1;31mNameError\u001b[0m: name 'l' is not defined"
     ]
    }
   ],
   "source": [
    "# d.items()\n",
    "l[0]['phone'] = \"9878998765\"\n",
    "l"
   ]
  },
  {
   "cell_type": "code",
   "execution_count": 9,
   "id": "47d4d80f",
   "metadata": {},
   "outputs": [
    {
     "data": {
      "text/plain": [
       "{('a', 'A'): 'Apple', 'b': 'Ball', 'c': 'Cat'}"
      ]
     },
     "execution_count": 9,
     "metadata": {},
     "output_type": "execute_result"
    }
   ],
   "source": [
    "#No list , dict and set as key (list, dict and set are mutable)\n",
    "d = {('a','A'):'Apple', 'b':'Ball', 'c':'Cat'}\n",
    "d"
   ]
  },
  {
   "cell_type": "code",
   "execution_count": null,
   "id": "08b93fc3",
   "metadata": {},
   "outputs": [],
   "source": [
    "# d = {('Ram','Shyam'):9808778765}"
   ]
  }
 ],
 "metadata": {
  "kernelspec": {
   "display_name": "Python 3 (ipykernel)",
   "language": "python",
   "name": "python3"
  },
  "language_info": {
   "codemirror_mode": {
    "name": "ipython",
    "version": 3
   },
   "file_extension": ".py",
   "mimetype": "text/x-python",
   "name": "python",
   "nbconvert_exporter": "python",
   "pygments_lexer": "ipython3",
   "version": "3.11.5"
  }
 },
 "nbformat": 4,
 "nbformat_minor": 5
}
