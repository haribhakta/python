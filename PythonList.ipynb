{
 "cells": [
  {
   "cell_type": "code",
   "execution_count": null,
   "id": "16e7b547",
   "metadata": {},
   "outputs": [],
   "source": [
    "# # Python List\n",
    "# list\n",
    "# tuple\n",
    "# dict\n",
    "# set\n",
    "# list features\n",
    "#Multiple data\n",
    "# duplicate\n",
    "# indexing\n",
    "# Mutable"
   ]
  },
  {
   "cell_type": "code",
   "execution_count": 1,
   "id": "5bcce4e7",
   "metadata": {},
   "outputs": [
    {
     "name": "stdout",
     "output_type": "stream",
     "text": [
      "<class 'list'>\n",
      "<class 'list'>\n"
     ]
    }
   ],
   "source": [
    "a = [\"Apple\",\"Ball\",\"Cat\",\"Dog\",\"Apple\"]\n",
    "b = [1,2,3,4,5,6,7,8,9,0]\n",
    "print(type(a))\n",
    "print(type(b))"
   ]
  },
  {
   "cell_type": "code",
   "execution_count": 2,
   "id": "79b89d2e",
   "metadata": {},
   "outputs": [
    {
     "data": {
      "text/plain": [
       "[]"
      ]
     },
     "execution_count": 2,
     "metadata": {},
     "output_type": "execute_result"
    }
   ],
   "source": [
    "l = list()\n",
    "l"
   ]
  },
  {
   "cell_type": "code",
   "execution_count": 3,
   "id": "52159961",
   "metadata": {},
   "outputs": [
    {
     "name": "stdout",
     "output_type": "stream",
     "text": [
      "Apple\n",
      "['Apple', 'Ball', 'Cat', 'Dog']\n",
      "['Apple', 'Cat', 'Apple']\n",
      "['Apple', 'Dog', 'Cat', 'Ball', 'Apple']\n"
     ]
    }
   ],
   "source": [
    "a = [\"Apple\",\"Ball\",\"Cat\",\"Dog\",\"Apple\"]\n",
    "print(a[0])\n",
    "print(a[0:4])\n",
    "print(a[::2])\n",
    "print(a[::-1])"
   ]
  },
  {
   "cell_type": "code",
   "execution_count": 4,
   "id": "7d6b25a5",
   "metadata": {},
   "outputs": [
    {
     "name": "stdout",
     "output_type": "stream",
     "text": [
      "[1, 2, 3, 4, 5, 6, 4, 4, 4]\n"
     ]
    }
   ],
   "source": [
    "a = [1,2,3,4,5,6]\n",
    "b = [4,4,4]\n",
    "c = a+b\n",
    "print(c)"
   ]
  },
  {
   "cell_type": "code",
   "execution_count": 5,
   "id": "cd93b8ae",
   "metadata": {},
   "outputs": [
    {
     "name": "stdout",
     "output_type": "stream",
     "text": [
      "5\n"
     ]
    }
   ],
   "source": [
    "c = a[0] + b[0]\n",
    "print(c)"
   ]
  },
  {
   "cell_type": "code",
   "execution_count": 6,
   "id": "845349f5",
   "metadata": {},
   "outputs": [
    {
     "name": "stdout",
     "output_type": "stream",
     "text": [
      "[1, 2, 3, 4, 5, 6, 1, 2, 3, 4, 5, 6]\n"
     ]
    }
   ],
   "source": [
    "a = [1,2,3,4,5,6]\n",
    "print(a*2)"
   ]
  },
  {
   "cell_type": "code",
   "execution_count": 7,
   "id": "1c1a1c97",
   "metadata": {},
   "outputs": [
    {
     "data": {
      "text/plain": [
       "[1, 2, 3, 4]"
      ]
     },
     "execution_count": 7,
     "metadata": {},
     "output_type": "execute_result"
    }
   ],
   "source": [
    "# Mutable data type\n",
    "a = [1,2,3]\n",
    "a.append(4)\n",
    "a"
   ]
  },
  {
   "cell_type": "code",
   "execution_count": 8,
   "id": "fa55b806",
   "metadata": {},
   "outputs": [
    {
     "data": {
      "text/plain": [
       "[4, 1, 2, 3]"
      ]
     },
     "execution_count": 8,
     "metadata": {},
     "output_type": "execute_result"
    }
   ],
   "source": [
    "a = [1,2,3]\n",
    "a.insert(0,4)\n",
    "a"
   ]
  },
  {
   "cell_type": "code",
   "execution_count": 9,
   "id": "1fb2ea21",
   "metadata": {},
   "outputs": [
    {
     "data": {
      "text/plain": [
       "[1, 2, 3, 4, 0, 0, 0]"
      ]
     },
     "execution_count": 9,
     "metadata": {},
     "output_type": "execute_result"
    }
   ],
   "source": [
    "a = [1,2,3,4]\n",
    "b = [0,0,0]\n",
    "a.extend(b)\n",
    "a"
   ]
  },
  {
   "cell_type": "code",
   "execution_count": 10,
   "id": "f13927d2",
   "metadata": {},
   "outputs": [
    {
     "data": {
      "text/plain": [
       "[4, 2, 3]"
      ]
     },
     "execution_count": 10,
     "metadata": {},
     "output_type": "execute_result"
    }
   ],
   "source": [
    "#Update\n",
    "a = [1,2,3]\n",
    "a[0] = 4\n",
    "a"
   ]
  },
  {
   "cell_type": "code",
   "execution_count": 11,
   "id": "2c4a4552",
   "metadata": {},
   "outputs": [
    {
     "name": "stdout",
     "output_type": "stream",
     "text": [
      "Enter n = 3\n",
      "Enter x = 4\n",
      "Enter x = 5\n",
      "Enter x = 7\n",
      "[4, 5, 7]\n"
     ]
    }
   ],
   "source": [
    "a = []\n",
    "n = int(input(\"Enter n = \"))\n",
    "for i in range(n):\n",
    "    x = int(input(\"Enter x = \"))\n",
    "    a.append(x)\n",
    "    \n",
    "print(a)"
   ]
  },
  {
   "cell_type": "code",
   "execution_count": 12,
   "id": "3beca4d9",
   "metadata": {},
   "outputs": [
    {
     "name": "stdout",
     "output_type": "stream",
     "text": [
      "The maximum value =  7\n",
      "The minimum value =  4\n",
      "Sum =  16\n",
      "[4, 5, 7]\n",
      "[7, 5, 4]\n"
     ]
    }
   ],
   "source": [
    "print(\"The maximum value = \",max(a))\n",
    "print(\"The minimum value = \",min(a))\n",
    "print(\"Sum = \",sum(a))\n",
    "a.sort()\n",
    "print(a)\n",
    "a.reverse()\n",
    "print(a)"
   ]
  },
  {
   "cell_type": "code",
   "execution_count": 13,
   "id": "e5f5d984",
   "metadata": {},
   "outputs": [
    {
     "name": "stdout",
     "output_type": "stream",
     "text": [
      "['.apple', 'Ant', 'Ball', 'Zebra']\n"
     ]
    }
   ],
   "source": [
    "a = [\"Ball\",\".apple\",\"Zebra\",\"Ant\"]\n",
    "a.sort()\n",
    "print(a)"
   ]
  },
  {
   "cell_type": "code",
   "execution_count": 2,
   "id": "48d97089",
   "metadata": {},
   "outputs": [
    {
     "name": "stdout",
     "output_type": "stream",
     "text": [
      "['Dog', 'Cat', 'Ball', 'Apple']\n"
     ]
    }
   ],
   "source": [
    "# del remove() pop()\n",
    "a = ['Apple', 'Dog', 'Cat', 'Ball', 'Apple']\n",
    "del a[0]\n",
    "print(a)"
   ]
  },
  {
   "cell_type": "code",
   "execution_count": 4,
   "id": "78cd2f93",
   "metadata": {},
   "outputs": [
    {
     "data": {
      "text/plain": [
       "['Apple', 'Cat', 'Ball', 'Apple']"
      ]
     },
     "execution_count": 4,
     "metadata": {},
     "output_type": "execute_result"
    }
   ],
   "source": [
    "a = ['Apple', 'Dog', 'Cat', 'Ball', 'Apple']\n",
    "a.remove(\"Dog\")\n",
    "a"
   ]
  },
  {
   "cell_type": "code",
   "execution_count": 5,
   "id": "7cae20d5",
   "metadata": {},
   "outputs": [
    {
     "name": "stdout",
     "output_type": "stream",
     "text": [
      "['Dog', 'Cat', 'Ball']\n"
     ]
    }
   ],
   "source": [
    "a = ['Apple', 'Dog', 'Cat', 'Ball', 'Apple','Apple']\n",
    "c = a.count('Apple')\n",
    "for i in range(c):\n",
    "    a.remove(\"Apple\")\n",
    "print(a)"
   ]
  },
  {
   "cell_type": "code",
   "execution_count": 8,
   "id": "b2d13788",
   "metadata": {},
   "outputs": [
    {
     "name": "stdout",
     "output_type": "stream",
     "text": [
      "0\n",
      "4\n",
      "5\n"
     ]
    }
   ],
   "source": [
    "a = ['Apple', 'Dog', 'Cat', 'Ball', 'Apple','Apple']\n",
    "l = len(a)\n",
    "for i in range(l):\n",
    "      if a[i] == \"Apple\":\n",
    "        print(i)"
   ]
  },
  {
   "cell_type": "code",
   "execution_count": 10,
   "id": "dbcd5b70",
   "metadata": {},
   "outputs": [
    {
     "name": "stdout",
     "output_type": "stream",
     "text": [
      "['Dog', 'Cat', 'Ball', 'Apple', 'Apple']\n",
      "Apple\n",
      "['Dog', 'Cat', 'Ball', 'Apple', 'Apple']\n"
     ]
    }
   ],
   "source": [
    "a = ['Apple', 'Dog', 'Cat', 'Ball', 'Apple','Apple']\n",
    "b = a.pop(0)\n",
    "print(a)\n",
    "print(b)\n",
    "print(a)"
   ]
  },
  {
   "cell_type": "code",
   "execution_count": 11,
   "id": "7467d2da",
   "metadata": {},
   "outputs": [
    {
     "name": "stdout",
     "output_type": "stream",
     "text": [
      "Yes\n",
      "3\n"
     ]
    }
   ],
   "source": [
    "# search\n",
    "a = ['Apple', 'Dog', 'Cat', 'Ball', 'Apple','Apple']\n",
    "if \"Apple\" in a:\n",
    "    print(\"Yes\")\n",
    "    print(a.count(\"Apple\"))\n",
    "else:\n",
    "    print(\"No\")"
   ]
  },
  {
   "cell_type": "code",
   "execution_count": 1,
   "id": "1199348e",
   "metadata": {},
   "outputs": [
    {
     "name": "stdout",
     "output_type": "stream",
     "text": [
      "list[[1, 2, 3], [4, 5, 6], [7, 8, 9]]\n"
     ]
    }
   ],
   "source": [
    "# list inside list (multi dimensional array)\n",
    "l=list[[1,2,3],\n",
    "      [4,5,6],\n",
    "      [7,8,9]]\n",
    "print (l)"
   ]
  },
  {
   "cell_type": "code",
   "execution_count": 3,
   "id": "117970c4",
   "metadata": {},
   "outputs": [
    {
     "name": "stdout",
     "output_type": "stream",
     "text": [
      "list[['Ram', 23, 'Kathmandu'], ['Hari', 22, 'Pokhara']]\n"
     ]
    }
   ],
   "source": [
    "l=list[[\"Ram\",23,\"Kathmandu\"],\n",
    "      [\"Hari\",22,\"Pokhara\"],\n",
    "      ]\n",
    "print (l)"
   ]
  },
  {
   "cell_type": "code",
   "execution_count": 1,
   "id": "7f4090c8",
   "metadata": {},
   "outputs": [
    {
     "name": "stdout",
     "output_type": "stream",
     "text": [
      "Enter number = 2\n",
      "Enter name = hari\n",
      "Enter age = 34\n",
      "Enter address = bharatpur\n",
      "Enter name = geeta\n",
      "Enter age = 32\n",
      "Enter address = tandi\n",
      "[['hari', '34', 'bharatpur'], ['geeta', '32', 'tandi']]\n"
     ]
    }
   ],
   "source": [
    "l=[]\n",
    "n=int(input(\"Enter number = \"))\n",
    "for i in range(n):\n",
    "    name=input(\"Enter name = \")\n",
    "    age=input(\"Enter age = \")\n",
    "    add=input(\"Enter address = \")\n",
    "    l.append([name,age,add])\n",
    "print(l)"
   ]
  },
  {
   "cell_type": "code",
   "execution_count": 2,
   "id": "d2912f2b",
   "metadata": {},
   "outputs": [
    {
     "name": "stdout",
     "output_type": "stream",
     "text": [
      "Enter n = 2\n",
      "Enter name of the product = apple\n",
      "Enter price of the product = 432\n",
      "Enter quantity = 6\n",
      "Enter name of the product = mango\n",
      "Enter price of the product = 234\n",
      "Enter quantity = 23\n",
      "['Product', 'Price', 'Qty', 'Total']\n",
      "[['apple', 432.0, 6.0, 2592.0], ['mango', 234.0, 23.0, 5382.0]]\n",
      "All total price =  7974.0\n"
     ]
    }
   ],
   "source": [
    "bill = []\n",
    "all_total = 0\n",
    "n = int(input(\"Enter n = \"))\n",
    "\n",
    "for i in range(n):\n",
    "    name = input(\"Enter name of the product = \")\n",
    "    price = float(input(\"Enter price of the product = \"))\n",
    "    qty = float(input(\"Enter quantity = \"))\n",
    "    total = price * qty\n",
    "    bill.append([name,price,qty,total])\n",
    "    all_total = all_total + total\n",
    "    \n",
    "print([\"Product\",\"Price\",\"Qty\",\"Total\"])\n",
    "print(bill)\n",
    "print(\"All total price = \",all_total)"
   ]
  },
  {
   "cell_type": "code",
   "execution_count": 4,
   "id": "c5f4f0d6",
   "metadata": {},
   "outputs": [
    {
     "name": "stdout",
     "output_type": "stream",
     "text": [
      "Enter name = Hari\n",
      "['Hari', 89, 'Lalitpur']\n"
     ]
    }
   ],
   "source": [
    "# search in list\n",
    "info = [['Ram', 34, 'Kathmandu'], ['Shyam', 45, 'Bhaktapur'], ['Hari', 89, 'Lalitpur']]\n",
    "name = input(\"Enter name = \")\n",
    "for i in info:\n",
    "    if i[0] == name:\n",
    "        print(i)"
   ]
  },
  {
   "cell_type": "code",
   "execution_count": 5,
   "id": "b91a1c63",
   "metadata": {},
   "outputs": [
    {
     "name": "stdout",
     "output_type": "stream",
     "text": [
      "[['Ram', 'Shyam', 'Hari'], [23, 45, 67], ['Kathmandu', 'Bhaktapur', 'Lalitpur']]\n"
     ]
    }
   ],
   "source": [
    "info = [['Ram','Shyam','Hari'],\n",
    "       [23,45,67],\n",
    "       ['Kathmandu','Bhaktapur','Lalitpur']]\n",
    "print(info)"
   ]
  },
  {
   "cell_type": "code",
   "execution_count": null,
   "id": "88051d27",
   "metadata": {},
   "outputs": [],
   "source": [
    "#WAP to create and do CRUD list inside list like above\n",
    "#WAP to create a matrix\n",
    "# r = ?\n",
    "# c = ?\n",
    "# x =?"
   ]
  }
 ],
 "metadata": {
  "kernelspec": {
   "display_name": "Python 3 (ipykernel)",
   "language": "python",
   "name": "python3"
  },
  "language_info": {
   "codemirror_mode": {
    "name": "ipython",
    "version": 3
   },
   "file_extension": ".py",
   "mimetype": "text/x-python",
   "name": "python",
   "nbconvert_exporter": "python",
   "pygments_lexer": "ipython3",
   "version": "3.11.5"
  }
 },
 "nbformat": 4,
 "nbformat_minor": 5
}
